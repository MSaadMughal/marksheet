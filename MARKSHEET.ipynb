{
 "cells": [
  {
   "cell_type": "code",
   "execution_count": 3,
   "metadata": {},
   "outputs": [
    {
     "name": "stdout",
     "output_type": "stream",
     "text": [
      "enter the name of first studentmuhammad Saad\n",
      "enter Physics marks66\n",
      "enter Chemistry marks77\n",
      "enter Mathematics marks77\n",
      "enter the name of first studentsami\n",
      "enter Physics marks44\n",
      "enter Chemistry marks66\n",
      "enter Mathematics marks88\n"
     ]
    }
   ],
   "source": [
    "# marksheet assignment\n",
    "\n",
    "list1=[]\n",
    "list2=[]\n",
    "list1.append(input(\"enter the name of first student\"))\n",
    "list1.append(int(input(\"enter Physics marks\")))\n",
    "list1.append(int(input(\"enter Chemistry marks\")))\n",
    "list1.append(int(input(\"enter Mathematics marks\")))\n",
    "list2.append(input(\"enter the name of first student\"))\n",
    "list2.append(int(input(\"enter Physics marks\")))\n",
    "list2.append(int(input(\"enter Chemistry marks\")))\n",
    "list2.append(int(input(\"enter Mathematics marks\")))\n",
    "total1=list1[1]+list1[2]+list1[3]\n",
    "total2=list2[1]+list2[2]+list2[3]\n",
    "avg1=total1/3\n",
    "avg2=total2/3\n",
    "\n",
    "\n",
    "import csv\n",
    " \n",
    "    \n",
    "with open(\"Marksheet.csv\",\"a\",newline=\"\") as f:\n",
    "        info=csv.writer(f,delimiter=\",\")\n",
    "        info.writerow([\"Name\",\"Physics\",\"Chemsitry\",\"Mathematics\",\"Total\",\"Average\"])\n",
    "        info.writerow([list1[0],list1[1],list1[2],list1[3],total1,avg1])\n",
    "        info.writerow([list2[0],list2[1],list2[2],list2[3],total2,avg2])"
   ]
  },
  {
   "cell_type": "code",
   "execution_count": null,
   "metadata": {},
   "outputs": [],
   "source": []
  }
 ],
 "metadata": {
  "kernelspec": {
   "display_name": "Python 3",
   "language": "python",
   "name": "python3"
  }
 },
 "nbformat": 4,
 "nbformat_minor": 2
}
